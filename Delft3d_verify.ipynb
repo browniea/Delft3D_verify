{
 "cells": [
  {
   "cell_type": "markdown",
   "id": "b24d696a-da76-431f-aafb-bc578247c824",
   "metadata": {},
   "source": [
    "# Delft 3D Verify "
   ]
  },
  {
   "cell_type": "markdown",
   "id": "86d09f86-8772-4c2f-8461-62e3592527b4",
   "metadata": {},
   "source": [
    "This code will compare experimental data to the simulated data on Delft3D.\n"
   ]
  },
  {
   "cell_type": "markdown",
   "id": "7211614c-89c6-4534-8511-dd64db6f00ae",
   "metadata": {},
   "source": [
    "This experimental data was collected during a flume test as documented in this citation. THE nondimentaionalized data is loi\n",
    ">   P. Mycek, B. Gaurier, G. Germain, G. Pinon, and E. Rivoalen, “Experimental study of the turbulence intensity effects on marine current turbines behaviour. Part I: One single turbine,” Renew. Energy, vol. 66, pp. 729–746, 2014, doi: 10.1016/j.renene.2013.12.036.  \n",
    "```\n",
    "u*flow rate (ex:0.8 m/s)= raw velocity \n",
    "y=0 at center of flume \n",
    "Downstream*diameter of turbine(ex:0.7)= meters downstream \n",
    "Velocity 15% inlet TI\n",
    "   u*\ty*\tDownstream\n",
    "0.51\t0\t1.2\n",
    "0.595\t0\t2\n",
    "0.788\t0\t3\n",
    "0.862\t0\t4\n",
    "0.911\t0\t5\n",
    "0.913\t0\t6\n",
    "0.927\t0\t7\n",
    "0.953\t0\t8\n",
    "0.965\t0\t9\n",
    "0.954\t0\t10\n",
    "```"
   ]
  },
  {
   "cell_type": "code",
   "execution_count": 1,
   "id": "797d115f-2e5f-4328-a8a6-1411333c6c21",
   "metadata": {},
   "outputs": [],
   "source": [
    "from os.path import abspath, dirname, join, normpath, relpath\n",
    "from mhkit.river.io import d3d \n",
    "from math import isclose\n",
    "import scipy.interpolate as interp\n",
    "import matplotlib.pyplot as plt\n",
    "import numpy as np\n",
    "import pandas as pd\n",
    "import netCDF4\n",
    "import math\n",
    "plt.rcParams.update({'font.size': 15}) # Set fount size of plots title and labels "
   ]
  },
  {
   "cell_type": "markdown",
   "id": "14203004-4c5c-4f38-a7d9-95dc0585c503",
   "metadata": {},
   "source": [
    "## Experimental data"
   ]
  },
  {
   "cell_type": "code",
   "execution_count": 2,
   "id": "bd7a1e6d-1123-4a6c-b1b6-e5b8fcb93ac3",
   "metadata": {},
   "outputs": [
    {
     "name": "stdout",
     "output_type": "stream",
     "text": [
      "        u*   y*  Downstream       u\n",
      "13   0.503  0.0         1.2  0.4024\n",
      "40   0.504  0.0         2.0  0.4032\n",
      "67   0.495  0.0         3.0  0.3960\n",
      "94   0.482  0.0         4.0  0.3856\n",
      "121  0.503  0.0         5.0  0.4024\n",
      "148  0.556  0.0         6.0  0.4448\n",
      "175  0.617  0.0         7.0  0.4936\n",
      "202  0.685  0.0         8.0  0.5480\n",
      "229  0.711  0.0         9.0  0.5688\n",
      "256  0.763  0.0        10.0  0.6104\n",
      "        u*   y*  Downstream       u\n",
      "13   0.510  0.0         1.2  0.4080\n",
      "40   0.595  0.0         2.0  0.4760\n",
      "67   0.788  0.0         3.0  0.6304\n",
      "94   0.862  0.0         4.0  0.6896\n",
      "121  0.911  0.0         5.0  0.7288\n",
      "148  0.913  0.0         6.0  0.7304\n",
      "175  0.927  0.0         7.0  0.7416\n",
      "202  0.953  0.0         8.0  0.7624\n",
      "229  0.965  0.0         9.0  0.7720\n",
      "256  0.954  0.0        10.0  0.7632\n"
     ]
    }
   ],
   "source": [
    "#Experimental data\n",
    "# ucx_experiment= np.array([0.51, 0.595, 0.788, 0.862, 0.911, 0.913, 0.927, 0.953, 0.965, 0.954])*0.8\n",
    "#x = np.array([1.2, 2, 3, 4, 5, 6, 7, 8, 9, 10])*turbine_diameter+turbine_x\n",
    "\n",
    "#Import Experimental data  3% TI \n",
    "datadir = normpath(join(relpath(join('data', 'river', 'flume_experiment'))))\n",
    "filename= 'Mycek_03TI_vel.txt'\n",
    "ucx_experiment_03= pd.read_csv(join(datadir,filename), delimiter=\"\\t\")\n",
    "ucx_experiment_03['u']=ucx_experiment_03['u*']*0.8\n",
    "ucx_experiment_centerline_03= ucx_experiment_03[ucx_experiment_03['y*'].values==0]\n",
    "print(ucx_experiment_centerline_03)\n",
    "\n",
    "\n",
    "#Import Experimental data  15% TI \n",
    "datadir = normpath(join(relpath(join('data', 'river', 'flume_experiment'))))\n",
    "filename= 'Mycek_15TI_vel.txt'\n",
    "ucx_experiment_15= pd.read_csv(join(datadir,filename), delimiter=\"\\t\")\n",
    "ucx_experiment_15['u']=ucx_experiment_15['u*']*0.8\n",
    "ucx_experiment_centerline_15= ucx_experiment_15[ucx_experiment_15['y*'].values==0]\n",
    "print(ucx_experiment_centerline_15)"
   ]
  },
  {
   "cell_type": "markdown",
   "id": "9a729939-17c4-47d5-8ee9-9a4dcca14611",
   "metadata": {},
   "source": [
    "##  Simulated Data"
   ]
  },
  {
   "cell_type": "code",
   "execution_count": 3,
   "id": "7b72a1e5-9e41-478f-b070-d7390e2ba396",
   "metadata": {},
   "outputs": [],
   "source": [
    "# Downloading Data\n",
    "datadir = normpath(join(relpath(join('data', 'river', 'd3d'))))\n",
    "filename= 'Flume_verify_8m_map.nc' \n",
    "d3d_data = netCDF4.Dataset(join(datadir,filename)) "
   ]
  },
  {
   "cell_type": "code",
   "execution_count": 4,
   "id": "5806ea4f-6ca0-4156-9448-f18e651f29f2",
   "metadata": {},
   "outputs": [
    {
     "name": "stdout",
     "output_type": "stream",
     "text": [
      "          x    y         z       ucx   time\n",
      "0       0.1  1.1  0.202957  0.574387  300.0\n",
      "1       0.3  1.1  0.199863  0.553914  300.0\n",
      "2       0.1  1.3  0.202957  0.574387  300.0\n",
      "3       0.5  1.1  0.199627  0.559213  300.0\n",
      "4       0.3  1.3  0.199863  0.553914  300.0\n",
      "...     ...  ...       ...       ...    ...\n",
      "15745  17.7  4.7  1.800354  0.990992  300.0\n",
      "15746  17.5  4.9  1.800341  0.974414  300.0\n",
      "15747  17.9  4.7  1.799983  1.003881  300.0\n",
      "15748  17.7  4.9  1.800354  0.990857  300.0\n",
      "15749  17.9  4.9  1.799984  1.003718  300.0\n",
      "\n",
      "[15750 rows x 5 columns]\n"
     ]
    }
   ],
   "source": [
    "# Getting variable data \n",
    "variable= 'ucx' \n",
    "var_data_df= d3d.get_all_data_points(d3d_data, variable, time_index=-1)\n",
    "print(var_data_df)\n"
   ]
  },
  {
   "cell_type": "markdown",
   "id": "96e4afba-5392-40b6-a1c7-b6e52c1fbfdd",
   "metadata": {},
   "source": [
    "### Creating Points to interpolate onto "
   ]
  },
  {
   "cell_type": "code",
   "execution_count": 5,
   "id": "5fec5d03-796f-453c-9358-f31f991a1779",
   "metadata": {},
   "outputs": [
    {
     "name": "stdout",
     "output_type": "stream",
     "text": [
      "[0.19689641 0.19689641 0.19732871 ... 1.80038104 1.80041619 1.80045244]\n",
      "0\n"
     ]
    },
    {
     "data": {
      "text/html": [
       "<div>\n",
       "<style scoped>\n",
       "    .dataframe tbody tr th:only-of-type {\n",
       "        vertical-align: middle;\n",
       "    }\n",
       "\n",
       "    .dataframe tbody tr th {\n",
       "        vertical-align: top;\n",
       "    }\n",
       "\n",
       "    .dataframe thead th {\n",
       "        text-align: right;\n",
       "    }\n",
       "</style>\n",
       "<table border=\"1\" class=\"dataframe\">\n",
       "  <thead>\n",
       "    <tr style=\"text-align: right;\">\n",
       "      <th></th>\n",
       "      <th>x</th>\n",
       "      <th>y</th>\n",
       "      <th>z</th>\n",
       "    </tr>\n",
       "  </thead>\n",
       "  <tbody>\n",
       "    <tr>\n",
       "      <th>0</th>\n",
       "      <td>6.84</td>\n",
       "      <td>3.0</td>\n",
       "      <td>0.998674</td>\n",
       "    </tr>\n",
       "    <tr>\n",
       "      <th>1</th>\n",
       "      <td>7.40</td>\n",
       "      <td>3.0</td>\n",
       "      <td>0.998674</td>\n",
       "    </tr>\n",
       "    <tr>\n",
       "      <th>2</th>\n",
       "      <td>8.10</td>\n",
       "      <td>3.0</td>\n",
       "      <td>0.998674</td>\n",
       "    </tr>\n",
       "    <tr>\n",
       "      <th>3</th>\n",
       "      <td>8.80</td>\n",
       "      <td>3.0</td>\n",
       "      <td>0.998674</td>\n",
       "    </tr>\n",
       "    <tr>\n",
       "      <th>4</th>\n",
       "      <td>9.50</td>\n",
       "      <td>3.0</td>\n",
       "      <td>0.998674</td>\n",
       "    </tr>\n",
       "    <tr>\n",
       "      <th>5</th>\n",
       "      <td>10.20</td>\n",
       "      <td>3.0</td>\n",
       "      <td>0.998674</td>\n",
       "    </tr>\n",
       "    <tr>\n",
       "      <th>6</th>\n",
       "      <td>10.90</td>\n",
       "      <td>3.0</td>\n",
       "      <td>0.998674</td>\n",
       "    </tr>\n",
       "    <tr>\n",
       "      <th>7</th>\n",
       "      <td>11.60</td>\n",
       "      <td>3.0</td>\n",
       "      <td>0.998674</td>\n",
       "    </tr>\n",
       "    <tr>\n",
       "      <th>8</th>\n",
       "      <td>12.30</td>\n",
       "      <td>3.0</td>\n",
       "      <td>0.998674</td>\n",
       "    </tr>\n",
       "    <tr>\n",
       "      <th>9</th>\n",
       "      <td>13.00</td>\n",
       "      <td>3.0</td>\n",
       "      <td>0.998674</td>\n",
       "    </tr>\n",
       "  </tbody>\n",
       "</table>\n",
       "</div>"
      ],
      "text/plain": [
       "       x    y         z\n",
       "0   6.84  3.0  0.998674\n",
       "1   7.40  3.0  0.998674\n",
       "2   8.10  3.0  0.998674\n",
       "3   8.80  3.0  0.998674\n",
       "4   9.50  3.0  0.998674\n",
       "5  10.20  3.0  0.998674\n",
       "6  10.90  3.0  0.998674\n",
       "7  11.60  3.0  0.998674\n",
       "8  12.30  3.0  0.998674\n",
       "9  13.00  3.0  0.998674"
      ]
     },
     "execution_count": 5,
     "metadata": {},
     "output_type": "execute_result"
    }
   ],
   "source": [
    "xmin=var_data_df.x.max()\n",
    "xmax=var_data_df.x.min()\n",
    "\n",
    "ymin=var_data_df.y.max()\n",
    "ymax=var_data_df.y.min()\n",
    "\n",
    "zmin=var_data_df.z.max()\n",
    "zmax=var_data_df.z.min()\n",
    "print(np.unique(var_data_df.z))\n",
    "\n",
    "# Creating one array and 2 points \n",
    "turbine_diameter= 0.7 #meters\n",
    "turbine_x=6\n",
    "x = np.array(ucx_experiment_centerline_15.Downstream*turbine_diameter+turbine_x)\n",
    "y = np.mean([ymin,ymax])\n",
    "z = np.mean([zmin,zmax])\n",
    "\n",
    "# Creating an array of points  \n",
    "cline_points = d3d.create_points(x, y, z)\n",
    "cline_points"
   ]
  },
  {
   "cell_type": "markdown",
   "id": "7db78a46-da72-472d-ac11-6e1c5ed29ec1",
   "metadata": {},
   "source": [
    "### Plotting Results"
   ]
  },
  {
   "cell_type": "code",
   "execution_count": 6,
   "id": "4ce75498-f10a-4f47-8203-0cb815a966de",
   "metadata": {},
   "outputs": [
    {
     "name": "stdout",
     "output_type": "stream",
     "text": [
      "[0.5786394  0.58094159 0.59341234 0.62088592 0.64566385 0.66356491\n",
      " 0.67760463 0.68901983 0.69870554 0.70703779]\n"
     ]
    },
    {
     "data": {
      "text/plain": [
       "<matplotlib.legend.Legend at 0x181f6d17fa0>"
      ]
     },
     "execution_count": 6,
     "metadata": {},
     "output_type": "execute_result"
    },
    {
     "data": {
      "image/png": "[encoded data removed]",
      "text/plain": [
       "<Figure size 864x360 with 1 Axes>"
      ]
     },
     "metadata": {
      "needs_background": "light"
     },
     "output_type": "display_data"
    }
   ],
   "source": [
    "cline_variable = interp.griddata(var_data_df[['x','y','z']], \n",
    "                     var_data_df[variable],\n",
    "                     cline_points[['x','y','z']]) \n",
    "print(cline_variable)\n",
    "# Plotting\n",
    "Type='Centerline'\n",
    "plt.figure(figsize=(12,5))\n",
    "Model= plt.plot(x, cline_variable, label=\"D3D model\")\n",
    "Exp=plt.plot(x, ucx_experiment_centerline_03.u,'o', label=\"Experiment 3% TI$_\\infty$\")\n",
    "\n",
    "Exp=plt.plot(x, ucx_experiment_centerline_15.u,'o', label=f'Experiment 15% TI$_\\infty$')\n",
    "plt.grid()\n",
    "plt.xlabel('x (m)')\n",
    "\n",
    "y_name= f'{d3d_data.variables[variable].standard_name}'\n",
    "y_label=' '.join([x.capitalize() for x in y_name.split('_')])\n",
    "plt.ylabel(f'{y_label} [{d3d_data.variables[variable].units}]')\n",
    "\n",
    "title_name= f'{d3d_data.variables[variable].long_name}'\n",
    "title_label=' '.join([x.capitalize() for x in title_name.split(' ')])\n",
    "plt.title(f'{Type} {title_label} \\n  time: {var_data_df.time[1]} s')\n",
    "plt.legend()"
   ]
  },
  {
   "cell_type": "markdown",
   "id": "6907ae94-a22d-4638-9f70-87378268c352",
   "metadata": {},
   "source": [
    "### standard devation"
   ]
  },
  {
   "cell_type": "code",
   "execution_count": 7,
   "id": "37f84a7b-cafa-42ca-a04f-bdef5b40d831",
   "metadata": {},
   "outputs": [
    {
     "name": "stdout",
     "output_type": "stream",
     "text": [
      "13     0.170639\n",
      "40     0.104942\n",
      "67    -0.036988\n",
      "94    -0.068714\n",
      "121   -0.083136\n",
      "148   -0.066835\n",
      "175   -0.063995\n",
      "202   -0.073380\n",
      "229   -0.073294\n",
      "256   -0.056162\n",
      "Name: u, dtype: float64\n",
      "-0.762661505148001\n",
      "0.02894210434297087\n",
      "41.823382243739225\n"
     ]
    }
   ],
   "source": [
    " # Square deviations\n",
    "deviations = (cline_variable - ucx_experiment_centerline_15.u)\n",
    "print(deviations)\n",
    "# Variance\n",
    "MAPE= sum(deviations/ ucx_experiment_centerline_15.u)*100/10\n",
    "print(MAPE)\n",
    "MSE=sum((deviations/ucx_experiment_centerline_15.u)**2)/10\n",
    "print(MSE)\n",
    "max_error= 100*max(deviations/ ucx_experiment_centerline_15.u)\n",
    "print(max_error)"
   ]
  },
  {
   "cell_type": "code",
   "execution_count": 8,
   "id": "e313bc4e-82db-40b4-8b10-4f472db4b57c",
   "metadata": {},
   "outputs": [
    {
     "name": "stdout",
     "output_type": "stream",
     "text": [
      "[0, 1, 2]\n"
     ]
    },
    {
     "data": {
      "image/png": "[encoded data removed]",
      "text/plain": [
       "<Figure size 864x288 with 2 Axes>"
      ]
     },
     "metadata": {
      "needs_background": "light"
     },
     "output_type": "display_data"
    }
   ],
   "source": [
    "x_contour = np.linspace(xmin, xmax, num=100)\n",
    "y_contour = np.linspace(ymin, ymax, num=40)\n",
    "z_contour = np.mean([zmin,zmax])\n",
    "\n",
    "contour_points = d3d.create_points(x_contour, y_contour, z_contour) \n",
    "\n",
    "\n",
    "contour_variable = interp.griddata(var_data_df[['x','y','z']], \n",
    "                                                     var_data_df[variable],\n",
    "                                                     contour_points[['x','y','z']])\n",
    "\n",
    "\n",
    "# Plotting \n",
    "Type= 'Contour'\n",
    "plt.figure(figsize=(12,4))\n",
    "contour_plot = plt.tricontourf(contour_points.x,contour_points.y,contour_variable)\n",
    "                               #vmin=min_plot_v,vmax=max_plot_v,levels=np.linspace(min_plot_v,max_plot_v,10))\n",
    "plt.plot(cline_points['x'], cline_points['y'], '.', color= 'red')\n",
    "\n",
    "plt.xlabel('x (m)')\n",
    "plt.ylabel('y (m)')\n",
    "title_name= f'{d3d_data.variables[variable].long_name}'\n",
    "title_label=' '.join([x.capitalize() for x in title_name.split(' ')])\n",
    "#plt.title(f'{Type} {title_label} \\n  Layer: {layer}')\n",
    "\n",
    "cbar= plt.colorbar(contour_plot)\n",
    "cbar_name= f'{d3d_data.variables[variable].standard_name}'\n",
    "cbar_label=' '.join([x.capitalize() for x in cbar_name.split('_')])\n",
    "cbar.set_label(f'{cbar_label} [{d3d_data.variables[variable].units}]')"
   ]
  },
  {
   "cell_type": "code",
   "execution_count": 10,
   "id": "7b7c62f6-6cd8-4c4c-ba2a-73060e2ba325",
   "metadata": {},
   "outputs": [
    {
     "name": "stdout",
     "output_type": "stream",
     "text": [
      "0\n"
     ]
    },
    {
     "data": {
      "text/plain": [
       "<matplotlib.legend.Legend at 0x181f5116a30>"
      ]
     },
     "execution_count": 10,
     "metadata": {},
     "output_type": "execute_result"
    },
    {
     "data": {
      "image/png": "[encoded data removed]",
      "text/plain": [
       "<Figure size 864x360 with 1 Axes>"
      ]
     },
     "metadata": {
      "needs_background": "light"
     },
     "output_type": "display_data"
    }
   ],
   "source": [
    "x_line = np.linspace(xmin, xmax, num=100)\n",
    "y = np.mean([ymin, ymax])\n",
    "z = np.mean([zmin,zmax])\n",
    "\n",
    "contour_points = d3d.create_points(x_line, y, z) \n",
    "\n",
    "cline_variable = interp.griddata(var_data_df[['x','y','z']], \n",
    "                     var_data_df[variable],\n",
    "                     contour_points[['x','y','z']]) \n",
    "# Plotting\n",
    "Type='Centerline'\n",
    "plt.figure(figsize=(12,5))\n",
    "Model= plt.plot(x_line, cline_variable, label=\"D3D model\")\n",
    "Exp=plt.plot(x,ucx_experiment_centerline_15.u,'o', label=\"Experiment\")\n",
    "plt.grid()\n",
    "plt.xlabel('x (m)')\n",
    "\n",
    "y_name= f'{d3d_data.variables[variable].standard_name}'\n",
    "y_label=' '.join([x.capitalize() for x in y_name.split('_')])\n",
    "plt.ylabel(f'{y_label} [{d3d_data.variables[variable].units}]')\n",
    "\n",
    "title_name= f'{d3d_data.variables[variable].long_name}'\n",
    "title_label=' '.join([x.capitalize() for x in title_name.split(' ')])\n",
    "plt.title(f'{Type} {title_label} \\n  time: {var_data_df.time[1]} s')\n",
    "plt.legend()"
   ]
  },
  {
   "cell_type": "code",
   "execution_count": 11,
   "id": "32e3cac5-1c69-4738-8b52-02109a04272f",
   "metadata": {},
   "outputs": [
    {
     "name": "stdout",
     "output_type": "stream",
     "text": [
      "[0, 1, 2]\n",
      "points provided\n"
     ]
    },
    {
     "data": {
      "text/html": [
       "<div>\n",
       "<style scoped>\n",
       "    .dataframe tbody tr th:only-of-type {\n",
       "        vertical-align: middle;\n",
       "    }\n",
       "\n",
       "    .dataframe tbody tr th {\n",
       "        vertical-align: top;\n",
       "    }\n",
       "\n",
       "    .dataframe thead th {\n",
       "        text-align: right;\n",
       "    }\n",
       "</style>\n",
       "<table border=\"1\" class=\"dataframe\">\n",
       "  <thead>\n",
       "    <tr style=\"text-align: right;\">\n",
       "      <th></th>\n",
       "      <th>x</th>\n",
       "      <th>y</th>\n",
       "      <th>z</th>\n",
       "      <th>turkin1</th>\n",
       "      <th>ucx</th>\n",
       "      <th>ucy</th>\n",
       "      <th>ucz</th>\n",
       "      <th>turbulent_intensity</th>\n",
       "    </tr>\n",
       "  </thead>\n",
       "  <tbody>\n",
       "    <tr>\n",
       "      <th>0</th>\n",
       "      <td>17.900000</td>\n",
       "      <td>4.9</td>\n",
       "      <td>0.998674</td>\n",
       "      <td>0.001737</td>\n",
       "      <td>0.861037</td>\n",
       "      <td>1.306241e-04</td>\n",
       "      <td>-0.024032</td>\n",
       "      <td>0.039506</td>\n",
       "    </tr>\n",
       "    <tr>\n",
       "      <th>1</th>\n",
       "      <td>17.720202</td>\n",
       "      <td>4.9</td>\n",
       "      <td>0.998674</td>\n",
       "      <td>0.001692</td>\n",
       "      <td>0.856974</td>\n",
       "      <td>1.123776e-04</td>\n",
       "      <td>0.115079</td>\n",
       "      <td>0.038842</td>\n",
       "    </tr>\n",
       "    <tr>\n",
       "      <th>2</th>\n",
       "      <td>17.540404</td>\n",
       "      <td>4.9</td>\n",
       "      <td>0.998674</td>\n",
       "      <td>0.001626</td>\n",
       "      <td>0.854515</td>\n",
       "      <td>1.116905e-04</td>\n",
       "      <td>0.013497</td>\n",
       "      <td>0.038522</td>\n",
       "    </tr>\n",
       "    <tr>\n",
       "      <th>3</th>\n",
       "      <td>17.360606</td>\n",
       "      <td>4.9</td>\n",
       "      <td>0.998674</td>\n",
       "      <td>0.001547</td>\n",
       "      <td>0.855307</td>\n",
       "      <td>9.987162e-05</td>\n",
       "      <td>-0.012701</td>\n",
       "      <td>0.037540</td>\n",
       "    </tr>\n",
       "    <tr>\n",
       "      <th>4</th>\n",
       "      <td>17.180808</td>\n",
       "      <td>4.9</td>\n",
       "      <td>0.998674</td>\n",
       "      <td>0.001522</td>\n",
       "      <td>0.855483</td>\n",
       "      <td>8.246612e-05</td>\n",
       "      <td>-0.001460</td>\n",
       "      <td>0.037240</td>\n",
       "    </tr>\n",
       "    <tr>\n",
       "      <th>...</th>\n",
       "      <td>...</td>\n",
       "      <td>...</td>\n",
       "      <td>...</td>\n",
       "      <td>...</td>\n",
       "      <td>...</td>\n",
       "      <td>...</td>\n",
       "      <td>...</td>\n",
       "      <td>...</td>\n",
       "    </tr>\n",
       "    <tr>\n",
       "      <th>3995</th>\n",
       "      <td>0.819192</td>\n",
       "      <td>1.1</td>\n",
       "      <td>0.998674</td>\n",
       "      <td>0.001112</td>\n",
       "      <td>0.844479</td>\n",
       "      <td>-4.454922e-07</td>\n",
       "      <td>-0.000135</td>\n",
       "      <td>0.032236</td>\n",
       "    </tr>\n",
       "    <tr>\n",
       "      <th>3996</th>\n",
       "      <td>0.639394</td>\n",
       "      <td>1.1</td>\n",
       "      <td>0.998674</td>\n",
       "      <td>0.001106</td>\n",
       "      <td>0.844512</td>\n",
       "      <td>-3.194806e-07</td>\n",
       "      <td>0.001603</td>\n",
       "      <td>0.032157</td>\n",
       "    </tr>\n",
       "    <tr>\n",
       "      <th>3997</th>\n",
       "      <td>0.459596</td>\n",
       "      <td>1.1</td>\n",
       "      <td>0.998674</td>\n",
       "      <td>0.001111</td>\n",
       "      <td>0.844795</td>\n",
       "      <td>-2.197608e-07</td>\n",
       "      <td>0.004556</td>\n",
       "      <td>0.032217</td>\n",
       "    </tr>\n",
       "    <tr>\n",
       "      <th>3998</th>\n",
       "      <td>0.279798</td>\n",
       "      <td>1.1</td>\n",
       "      <td>0.998674</td>\n",
       "      <td>0.001089</td>\n",
       "      <td>0.845970</td>\n",
       "      <td>-1.346329e-07</td>\n",
       "      <td>-0.011867</td>\n",
       "      <td>0.031853</td>\n",
       "    </tr>\n",
       "    <tr>\n",
       "      <th>3999</th>\n",
       "      <td>0.100000</td>\n",
       "      <td>1.1</td>\n",
       "      <td>0.998674</td>\n",
       "      <td>0.001006</td>\n",
       "      <td>0.842908</td>\n",
       "      <td>-6.135649e-08</td>\n",
       "      <td>0.133889</td>\n",
       "      <td>0.030350</td>\n",
       "    </tr>\n",
       "  </tbody>\n",
       "</table>\n",
       "<p>4000 rows × 8 columns</p>\n",
       "</div>"
      ],
      "text/plain": [
       "              x    y         z   turkin1       ucx           ucy       ucz  \\\n",
       "0     17.900000  4.9  0.998674  0.001737  0.861037  1.306241e-04 -0.024032   \n",
       "1     17.720202  4.9  0.998674  0.001692  0.856974  1.123776e-04  0.115079   \n",
       "2     17.540404  4.9  0.998674  0.001626  0.854515  1.116905e-04  0.013497   \n",
       "3     17.360606  4.9  0.998674  0.001547  0.855307  9.987162e-05 -0.012701   \n",
       "4     17.180808  4.9  0.998674  0.001522  0.855483  8.246612e-05 -0.001460   \n",
       "...         ...  ...       ...       ...       ...           ...       ...   \n",
       "3995   0.819192  1.1  0.998674  0.001112  0.844479 -4.454922e-07 -0.000135   \n",
       "3996   0.639394  1.1  0.998674  0.001106  0.844512 -3.194806e-07  0.001603   \n",
       "3997   0.459596  1.1  0.998674  0.001111  0.844795 -2.197608e-07  0.004556   \n",
       "3998   0.279798  1.1  0.998674  0.001089  0.845970 -1.346329e-07 -0.011867   \n",
       "3999   0.100000  1.1  0.998674  0.001006  0.842908 -6.135649e-08  0.133889   \n",
       "\n",
       "      turbulent_intensity  \n",
       "0                0.039506  \n",
       "1                0.038842  \n",
       "2                0.038522  \n",
       "3                0.037540  \n",
       "4                0.037240  \n",
       "...                   ...  \n",
       "3995             0.032236  \n",
       "3996             0.032157  \n",
       "3997             0.032217  \n",
       "3998             0.031853  \n",
       "3999             0.030350  \n",
       "\n",
       "[4000 rows x 8 columns]"
      ]
     },
     "execution_count": 11,
     "metadata": {},
     "output_type": "execute_result"
    }
   ],
   "source": [
    "x_contour = np.linspace(xmin, xmax, num=100)\n",
    "y_contour = np.linspace(ymin, ymax, num=40)\n",
    "z_contour = np.mean([zmin,zmax])\n",
    "\n",
    "contour_points = d3d.create_points(x_contour, y_contour, z_contour) \n",
    "\n",
    "TI= d3d.turbulent_intensity(d3d_data, points= contour_points ,intermediate_values = True) \n",
    "TI"
   ]
  },
  {
   "cell_type": "code",
   "execution_count": 12,
   "id": "8473f312-9b8f-4a55-a2a3-9cb68f69e8a7",
   "metadata": {},
   "outputs": [
    {
     "data": {
      "image/png": "[encoded data removed]",
      "text/plain": [
       "<Figure size 864x288 with 2 Axes>"
      ]
     },
     "metadata": {
      "needs_background": "light"
     },
     "output_type": "display_data"
    }
   ],
   "source": [
    "# Creating new plot limits \n",
    "max_plot_v= 0.3\n",
    "min_plot_v=0\n",
    "\n",
    "# Plotting \n",
    "plt.figure(figsize=(12,4))\n",
    "contour_plot = plt.tricontourf(TI.x, TI.y, TI.turbulent_intensity,\n",
    "                               vmin=min_plot_v, vmax=max_plot_v,levels=np.linspace(min_plot_v,max_plot_v,10))\n",
    "plt.xlabel('x (m)')\n",
    "plt.ylabel('y (m)')\n",
    "plt.title('Turbulent Intensity')\n",
    "cbar= plt.colorbar(contour_plot)\n",
    "cbar.set_label('Turbulent Intensity [-]')"
   ]
  }
 ],
 "metadata": {
  "kernelspec": {
   "display_name": "Python 3",
   "language": "python",
   "name": "python3"
  },
  "language_info": {
   "codemirror_mode": {
    "name": "ipython",
    "version": 3
   },
   "file_extension": ".py",
   "mimetype": "text/x-python",
   "name": "python",
   "nbconvert_exporter": "python",
   "pygments_lexer": "ipython3",
   "version": "3.8.8"
  }
 },
 "nbformat": 4,
 "nbformat_minor": 5
}
