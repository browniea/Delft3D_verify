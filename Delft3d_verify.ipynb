{
 "cells": [
  {
   "cell_type": "markdown",
   "id": "b24d696a-da76-431f-aafb-bc578247c824",
   "metadata": {},
   "source": [
    "# Delft 3D Verify "
   ]
  },
  {
   "cell_type": "markdown",
   "id": "86d09f86-8772-4c2f-8461-62e3592527b4",
   "metadata": {},
   "source": [
    "This code will compare experimental data to the simulated data on Delft3D.\n",
    ">   P. Mycek, B. Gaurier, G. Germain, G. Pinon, and E. Rivoalen, “Experimental study of the turbulence intensity effects on marine current turbines behaviour. Part I: One single turbine,” Renew. Energy, vol. 66, pp. 729–746, 2014, doi: 10.1016/j.renene.2013.12.036.  "
   ]
  },
  {
   "cell_type": "markdown",
   "id": "7211614c-89c6-4534-8511-dd64db6f00ae",
   "metadata": {},
   "source": [
    "```\n",
    "u*flow rate (ex:0.8 m/s)= raw velocity \n",
    "y=0 at center of flume \n",
    "Downstream*diameter of turbine(ex:0.7)= meters downstream \n",
    "Velocity 15% inlet TI\n",
    "    u*\ty*\tDownstream\n",
    "0.51\t0\t1.2\n",
    "0.595\t0\t2\n",
    "0.788\t0\t3\n",
    "0.862\t0\t4\n",
    "0.911\t0\t5\n",
    "0.913\t0\t6\n",
    "0.927\t0\t7\n",
    "0.953\t0\t8\n",
    "0.965\t0\t9\n",
    "0.954\t0\t10\n",
    "```"
   ]
  },
  {
   "cell_type": "code",
   "execution_count": 1,
   "id": "797d115f-2e5f-4328-a8a6-1411333c6c21",
   "metadata": {},
   "outputs": [],
   "source": [
    "from os.path import abspath, dirname, join, normpath, relpath\n",
    "from mhkit.river.io import d3d \n",
    "from math import isclose\n",
    "import scipy.interpolate as interp\n",
    "import matplotlib.pyplot as plt\n",
    "import numpy as np\n",
    "import pandas as pd\n",
    "import netCDF4\n",
    "plt.rcParams.update({'font.size': 15}) # Set fount size of plots title and labels "
   ]
  },
  {
   "cell_type": "markdown",
   "id": "14203004-4c5c-4f38-a7d9-95dc0585c503",
   "metadata": {},
   "source": [
    "## Experimental data"
   ]
  },
  {
   "cell_type": "code",
   "execution_count": 2,
   "id": "bd7a1e6d-1123-4a6c-b1b6-e5b8fcb93ac3",
   "metadata": {},
   "outputs": [
    {
     "data": {
      "text/plain": [
       "array([0.408 , 0.476 , 0.6304, 0.6896, 0.7288, 0.7304, 0.7416, 0.7624,\n",
       "       0.772 , 0.7632])"
      ]
     },
     "execution_count": 2,
     "metadata": {},
     "output_type": "execute_result"
    }
   ],
   "source": [
    "#Experimental data\n",
    "ucx_experiment= np.array([0.51, 0.595, 0.788, 0.862, 0.911, 0.913, 0.927, 0.953, 0.965, 0.954])*0.8\n",
    "ucx_experiment"
   ]
  },
  {
   "cell_type": "markdown",
   "id": "9a729939-17c4-47d5-8ee9-9a4dcca14611",
   "metadata": {},
   "source": [
    "##  Simulated Data"
   ]
  },
  {
   "cell_type": "code",
   "execution_count": 3,
   "id": "7b72a1e5-9e41-478f-b070-d7390e2ba396",
   "metadata": {},
   "outputs": [],
   "source": [
    "# Downloading Data\n",
    "datadir = normpath(join(relpath(join('data', 'river', 'd3d'))))\n",
    "filename= 'Verify_turbineTest_map.nc' #Verify_\n",
    "d3d_data = netCDF4.Dataset(join(datadir,filename)) "
   ]
  },
  {
   "cell_type": "code",
   "execution_count": 4,
   "id": "5806ea4f-6ca0-4156-9448-f18e651f29f2",
   "metadata": {},
   "outputs": [
    {
     "name": "stdout",
     "output_type": "stream",
     "text": [
      "         x    y         z       ucx   time\n",
      "0      0.1  1.1  0.200071  0.071482  300.0\n",
      "1      0.3  1.1  0.200024  0.068659  300.0\n",
      "2      0.1  1.3  0.200071  0.071482  300.0\n",
      "3      0.5  1.1  0.200022  0.069224  300.0\n",
      "4      0.3  1.3  0.200024  0.068659  300.0\n",
      "...    ...  ...       ...       ...    ...\n",
      "8995  17.7  4.7  1.800006  0.118160  300.0\n",
      "8996  17.5  4.9  1.800006  0.116840  300.0\n",
      "8997  17.9  4.7  1.800000  0.118495  300.0\n",
      "8998  17.7  4.9  1.800006  0.118140  300.0\n",
      "8999  17.9  4.9  1.800000  0.118465  300.0\n",
      "\n",
      "[9000 rows x 5 columns]\n"
     ]
    }
   ],
   "source": [
    "# Getting variable data \n",
    "variable= 'ucx' \n",
    "var_data_df= d3d.get_all_data_points(d3d_data, variable, time_index=-1)\n",
    "print(var_data_df)\n"
   ]
  },
  {
   "cell_type": "markdown",
   "id": "96e4afba-5392-40b6-a1c7-b6e52c1fbfdd",
   "metadata": {},
   "source": [
    "### Creating Points to interpolate onto "
   ]
  },
  {
   "cell_type": "code",
   "execution_count": 5,
   "id": "5fec5d03-796f-453c-9358-f31f991a1779",
   "metadata": {},
   "outputs": [
    {
     "name": "stdout",
     "output_type": "stream",
     "text": [
      "[0.19999765 0.20000177 0.20000177 ... 1.80000789 1.80000789 1.8000098 ]\n",
      "0\n"
     ]
    },
    {
     "data": {
      "text/html": [
       "<div>\n",
       "<style scoped>\n",
       "    .dataframe tbody tr th:only-of-type {\n",
       "        vertical-align: middle;\n",
       "    }\n",
       "\n",
       "    .dataframe tbody tr th {\n",
       "        vertical-align: top;\n",
       "    }\n",
       "\n",
       "    .dataframe thead th {\n",
       "        text-align: right;\n",
       "    }\n",
       "</style>\n",
       "<table border=\"1\" class=\"dataframe\">\n",
       "  <thead>\n",
       "    <tr style=\"text-align: right;\">\n",
       "      <th></th>\n",
       "      <th>x</th>\n",
       "      <th>y</th>\n",
       "      <th>z</th>\n",
       "    </tr>\n",
       "  </thead>\n",
       "  <tbody>\n",
       "    <tr>\n",
       "      <th>0</th>\n",
       "      <td>6.84</td>\n",
       "      <td>3.0</td>\n",
       "      <td>1.000004</td>\n",
       "    </tr>\n",
       "    <tr>\n",
       "      <th>1</th>\n",
       "      <td>7.40</td>\n",
       "      <td>3.0</td>\n",
       "      <td>1.000004</td>\n",
       "    </tr>\n",
       "    <tr>\n",
       "      <th>2</th>\n",
       "      <td>8.10</td>\n",
       "      <td>3.0</td>\n",
       "      <td>1.000004</td>\n",
       "    </tr>\n",
       "    <tr>\n",
       "      <th>3</th>\n",
       "      <td>8.80</td>\n",
       "      <td>3.0</td>\n",
       "      <td>1.000004</td>\n",
       "    </tr>\n",
       "    <tr>\n",
       "      <th>4</th>\n",
       "      <td>9.50</td>\n",
       "      <td>3.0</td>\n",
       "      <td>1.000004</td>\n",
       "    </tr>\n",
       "    <tr>\n",
       "      <th>5</th>\n",
       "      <td>10.20</td>\n",
       "      <td>3.0</td>\n",
       "      <td>1.000004</td>\n",
       "    </tr>\n",
       "    <tr>\n",
       "      <th>6</th>\n",
       "      <td>10.90</td>\n",
       "      <td>3.0</td>\n",
       "      <td>1.000004</td>\n",
       "    </tr>\n",
       "    <tr>\n",
       "      <th>7</th>\n",
       "      <td>11.60</td>\n",
       "      <td>3.0</td>\n",
       "      <td>1.000004</td>\n",
       "    </tr>\n",
       "    <tr>\n",
       "      <th>8</th>\n",
       "      <td>12.30</td>\n",
       "      <td>3.0</td>\n",
       "      <td>1.000004</td>\n",
       "    </tr>\n",
       "    <tr>\n",
       "      <th>9</th>\n",
       "      <td>13.00</td>\n",
       "      <td>3.0</td>\n",
       "      <td>1.000004</td>\n",
       "    </tr>\n",
       "  </tbody>\n",
       "</table>\n",
       "</div>"
      ],
      "text/plain": [
       "       x    y         z\n",
       "0   6.84  3.0  1.000004\n",
       "1   7.40  3.0  1.000004\n",
       "2   8.10  3.0  1.000004\n",
       "3   8.80  3.0  1.000004\n",
       "4   9.50  3.0  1.000004\n",
       "5  10.20  3.0  1.000004\n",
       "6  10.90  3.0  1.000004\n",
       "7  11.60  3.0  1.000004\n",
       "8  12.30  3.0  1.000004\n",
       "9  13.00  3.0  1.000004"
      ]
     },
     "execution_count": 5,
     "metadata": {},
     "output_type": "execute_result"
    }
   ],
   "source": [
    "xmin=var_data_df.x.max()\n",
    "xmax=var_data_df.x.min()\n",
    "\n",
    "ymin=var_data_df.y.max()\n",
    "ymax=var_data_df.y.min()\n",
    "\n",
    "zmin=var_data_df.z.max()\n",
    "zmax=var_data_df.z.min()\n",
    "print(np.unique(var_data_df.z))\n",
    "\n",
    "# Creating one array and 2 points \n",
    "turbine_diameter= 0.7 #meters\n",
    "turbine_x=6\n",
    "x = np.array([1.2, 2, 3, 4, 5, 6, 7, 8, 9, 10])*turbine_diameter+turbine_x\n",
    "y = np.mean([ymin,ymax])\n",
    "z = np.mean([zmin,zmax])\n",
    "\n",
    "# Creating an array of points  \n",
    "cline_points = d3d.create_points(x, y, z)\n",
    "cline_points"
   ]
  },
  {
   "cell_type": "markdown",
   "id": "7db78a46-da72-472d-ac11-6e1c5ed29ec1",
   "metadata": {},
   "source": [
    "### Plotting Results"
   ]
  },
  {
   "cell_type": "code",
   "execution_count": 6,
   "id": "1ece5700-d3e8-4639-a1d8-ab5f06e62f78",
   "metadata": {},
   "outputs": [
    {
     "name": "stdout",
     "output_type": "stream",
     "text": [
      "[0.07782817 0.07980187 0.08203258 0.08382864 0.0853155  0.08644537\n",
      " 0.08726735 0.08797914 0.08863835 0.08920558]\n"
     ]
    },
    {
     "data": {
      "text/plain": [
       "<matplotlib.legend.Legend at 0x25e5926f070>"
      ]
     },
     "execution_count": 6,
     "metadata": {},
     "output_type": "execute_result"
    },
    {
     "data": {
      "image/png": "[encoded data removed]",
      "text/plain": [
       "<Figure size 864x360 with 1 Axes>"
      ]
     },
     "metadata": {
      "needs_background": "light"
     },
     "output_type": "display_data"
    }
   ],
   "source": [
    "cline_variable = interp.griddata(var_data_df[['x','y','z']], \n",
    "                     var_data_df[variable],\n",
    "                     cline_points[['x','y','z']]) \n",
    "print(cline_variable)\n",
    "# Plotting\n",
    "Type='Centerline'\n",
    "plt.figure(figsize=(12,5))\n",
    "Model= plt.plot(x, cline_variable, label=\"D3D model\")\n",
    "Exp=plt.plot(x, ucx_experiment,'o', label=\"Experiment\")\n",
    "plt.grid()\n",
    "plt.xlabel('x (m)')\n",
    "\n",
    "y_name= f'{d3d_data.variables[variable].standard_name}'\n",
    "y_label=' '.join([x.capitalize() for x in y_name.split('_')])\n",
    "plt.ylabel(f'{y_label} [{d3d_data.variables[variable].units}]')\n",
    "\n",
    "title_name= f'{d3d_data.variables[variable].long_name}'\n",
    "title_label=' '.join([x.capitalize() for x in title_name.split(' ')])\n",
    "plt.title(f'{Type} {title_label} \\n  time: {var_data_df.time[1]} s')\n",
    "plt.legend()"
   ]
  },
  {
   "cell_type": "code",
   "execution_count": 7,
   "id": "e313bc4e-82db-40b4-8b10-4f472db4b57c",
   "metadata": {},
   "outputs": [
    {
     "name": "stdout",
     "output_type": "stream",
     "text": [
      "[0, 1, 2]\n"
     ]
    },
    {
     "data": {
      "image/png": "[encoded data removed]",
      "text/plain": [
       "<Figure size 864x288 with 2 Axes>"
      ]
     },
     "metadata": {
      "needs_background": "light"
     },
     "output_type": "display_data"
    }
   ],
   "source": [
    "x_contour = np.linspace(xmin, xmax, num=100)\n",
    "y_contour = np.linspace(ymin, ymax, num=40)\n",
    "z_contour = np.mean([zmin,zmax])\n",
    "\n",
    "contour_points = d3d.create_points(x_contour, y_contour, z_contour) \n",
    "\n",
    "\n",
    "contour_variable = interp.griddata(var_data_df[['x','y','z']], \n",
    "                                                     var_data_df[variable],\n",
    "                                                     contour_points[['x','y','z']])\n",
    "\n",
    "\n",
    "# Plotting \n",
    "Type= 'Contour'\n",
    "plt.figure(figsize=(12,4))\n",
    "contour_plot = plt.tricontourf(contour_points.x,contour_points.y,contour_variable)\n",
    "                               #vmin=min_plot_v,vmax=max_plot_v,levels=np.linspace(min_plot_v,max_plot_v,10))\n",
    "plt.plot(cline_points['x'], cline_points['y'], '.', color= 'red')\n",
    "\n",
    "plt.xlabel('x (m)')\n",
    "plt.ylabel('y (m)')\n",
    "title_name= f'{d3d_data.variables[variable].long_name}'\n",
    "title_label=' '.join([x.capitalize() for x in title_name.split(' ')])\n",
    "#plt.title(f'{Type} {title_label} \\n  Layer: {layer}')\n",
    "\n",
    "cbar= plt.colorbar(contour_plot)\n",
    "cbar_name= f'{d3d_data.variables[variable].standard_name}'\n",
    "cbar_label=' '.join([x.capitalize() for x in cbar_name.split('_')])\n",
    "cbar.set_label(f'{cbar_label} [{d3d_data.variables[variable].units}]')"
   ]
  },
  {
   "cell_type": "code",
   "execution_count": null,
   "id": "32e3cac5-1c69-4738-8b52-02109a04272f",
   "metadata": {},
   "outputs": [],
   "source": []
  }
 ],
 "metadata": {
  "kernelspec": {
   "display_name": "Python 3",
   "language": "python",
   "name": "python3"
  },
  "language_info": {
   "codemirror_mode": {
    "name": "ipython",
    "version": 3
   },
   "file_extension": ".py",
   "mimetype": "text/x-python",
   "name": "python",
   "nbconvert_exporter": "python",
   "pygments_lexer": "ipython3",
   "version": "3.8.8"
  }
 },
 "nbformat": 4,
 "nbformat_minor": 5
}
